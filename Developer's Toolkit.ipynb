{
 "cells": [
  {
   "cell_type": "markdown",
   "id": "17a47019",
   "metadata": {},
   "source": [
    "# Developer's Toolkit 🧰\n",
    "---\n",
    "## Getting Started\n",
    "Welcome to your first Jupyter Notebook! This is an interface that will allow you to run all the Python your heart desires without worrying about messing up any fancy production environments.\n",
    "\n",
    "What you are reading now is one of two types of *cells*. This particular cell is for *markdown*, which means you can use it to write text (and stylize it if you so wish). Give it a try on the cell below and add your name."
   ]
  },
  {
   "cell_type": "markdown",
   "id": "508a0535",
   "metadata": {},
   "source": [
    "**Double click this text to edit this cell! Replace this line with your name.**"
   ]
  },
  {
   "cell_type": "markdown",
   "id": "474c7769",
   "metadata": {},
   "source": [
    "The other type of cell is for *code*, allowing you to write and run Python. You can modify the type for your cell either using the drop down on the top or by single clicking a cell (or hitting the esc key if it's in edit mode) to go into select mode and tapping \"m\" for markdown, or \"y\" for \"code\" (don't ask me how they came up with that one).\n",
    "\n",
    "You can run the cell by pressing the Run button up top, or by hitting Cmd+Enter."
   ]
  },
  {
   "cell_type": "code",
   "execution_count": 1,
   "id": "1bee4457",
   "metadata": {},
   "outputs": [
    {
     "name": "stdout",
     "output_type": "stream",
     "text": [
      "this is a code cell!\n"
     ]
    }
   ],
   "source": [
    "print(\"this is a code cell!\")"
   ]
  },
  {
   "cell_type": "markdown",
   "id": "d9f1cd5e",
   "metadata": {},
   "source": [
    "If the code you've written yields an error, Jupyter Notebook tells you right beneath the cell:"
   ]
  },
  {
   "cell_type": "code",
   "execution_count": 2,
   "id": "de265994",
   "metadata": {},
   "outputs": [
    {
     "ename": "SyntaxError",
     "evalue": "incomplete input (2546893375.py, line 1)",
     "output_type": "error",
     "traceback": [
      "\u001b[0;36m  Input \u001b[0;32mIn [2]\u001b[0;36m\u001b[0m\n\u001b[0;31m    print(\"this is a code cell!\"\u001b[0m\n\u001b[0m                                ^\u001b[0m\n\u001b[0;31mSyntaxError\u001b[0m\u001b[0;31m:\u001b[0m incomplete input\n"
     ]
    }
   ],
   "source": [
    "print(\"this is a code cell!\""
   ]
  },
  {
   "cell_type": "markdown",
   "id": "6fc625f8",
   "metadata": {},
   "source": [
    "You'll notice that there's some blue text to the left of these code cells: for instance, the first one says *In [1]*. Jupyter Notebooks keeps track of the order code cells are run and lets you know through these indicators."
   ]
  },
  {
   "cell_type": "markdown",
   "id": "54e39d41",
   "metadata": {},
   "source": [
    "## Use this cheap and easy trick to learn how to write Python in seconds!\n",
    "Here it is: *don't worry about it*. Seriously, it's literally semantics; if you don't know how to write something, just look it up! I've been coding in Python for years, and to this day I will forget how to write a simple loop and Google it. The key to learning any coding language is understanding the fundamentals of problem solving, i.e. breaking things down and tackling them one by one. Python is no exception, and it has the added benefit of being extremely easy to write."
   ]
  },
  {
   "cell_type": "markdown",
   "id": "13ddca7b",
   "metadata": {},
   "source": [
    "## The Guessing Game\n",
    "\n",
    "Let's internalize this by walking through a simple prompt: *Create a script that generates a random number (1-10) and asks users to guess that number.*\n",
    "\n",
    "First, we should conceptulize: how would we go about this? To get some practice writing markdown, use the next cell to create a numbered list of steps we might follow to create such a game. This isn't a particularly difficult prompt, so feel free to examine the following cells that spoil the answers if you wish."
   ]
  },
  {
   "cell_type": "markdown",
   "id": "1f33b8f3",
   "metadata": {},
   "source": [
    "**Write your steps here!**"
   ]
  },
  {
   "cell_type": "markdown",
   "id": "c7b59fe9",
   "metadata": {},
   "source": [
    "Now let's write some Python!\n",
    "\n",
    "First, we need to generate a random number for the user to guess. Let's figure this out using history's most convenient digital tool. I'm talking, of course, about Bing.\n",
    "\n",
    "If you search how to generate a random number in Python, there are a great many resources to look into. Some useful go-tos: Stack Overflow, GeeksforGeeks, and W3Schools. Let's open the [W3Schools answer](https://www.w3schools.com/python/numpy/numpy_random.asp) for now.\n",
    "\n",
    "Apparently, Python has multiple convenient libraries just for this very thing! You'll hear this often, as Python libraries are very comprehensive. There's a library aptly called *random* and another one, referenced in the W3Schools answer above, called *numpy*. Both are great for our use case, but let's use the latter for this example, because the numpy library is one you'll run into often in the future. It covers far, far more than just generating random numbers, but we'll get to that later."
   ]
  },
  {
   "cell_type": "code",
   "execution_count": 6,
   "id": "f5f53a55",
   "metadata": {},
   "outputs": [],
   "source": [
    "# Use the \"import\" keyword to reference a library.\n",
    "# \"as\" allows you to create an alias for the library to refer to it easier throughout your code.\n",
    "import numpy as np\n",
    "\n",
    "# Note: the W3Schools answer uses the following syntax - from numpy import random.\n",
    "# This means that it is drawing from a specific function within numpy, making it easier to reference later on.\n",
    "# Either implementation is fine! We'll just go with the above because it's a bit more basic."
   ]
  },
  {
   "cell_type": "markdown",
   "id": "cc81e032",
   "metadata": {},
   "source": [
    "Now let's generate a random number using the guidance of W3Schools:"
   ]
  },
  {
   "cell_type": "code",
   "execution_count": 14,
   "id": "62abe4c6",
   "metadata": {},
   "outputs": [
    {
     "name": "stdout",
     "output_type": "stream",
     "text": [
      "5\n"
     ]
    }
   ],
   "source": [
    "# Each dot dives deeper into the library to reference functions within objects.\n",
    "# Here we reference the random object, and within that the randint function.\n",
    "random_num = np.random.randint(10)\n",
    "print(random_num)"
   ]
  },
  {
   "cell_type": "markdown",
   "id": "d97dfa01",
   "metadata": {},
   "source": [
    "Easy peasy with a library! Why bother doing the nitty gritty work when you can stand on the shoulders of giants?\n",
    "\n",
    "Next, we can ask the user to guess a number. You should attempt to ~~Google~~ Bing a solution yourself, but to move things along, [here](https://www.geeksforgeeks.org/how-to-take-integer-input-in-python/) is something I found with a quick search on GeeksforGeeks."
   ]
  },
  {
   "cell_type": "code",
   "execution_count": 15,
   "id": "73b300e7",
   "metadata": {},
   "outputs": [
    {
     "name": "stdout",
     "output_type": "stream",
     "text": [
      "Guess a number between 1-10:\n",
      "4\n"
     ]
    }
   ],
   "source": [
    "print(\"Guess a number between 1-10:\")\n",
    "get_input = int(input()) # The int() around the input function \"casts\" the input as a number instead of a string."
   ]
  },
  {
   "cell_type": "markdown",
   "id": "9035de59",
   "metadata": {},
   "source": [
    "Finally, all that's left is to compare what the user guessed with the actual answer, which should just employ basic programming principles. Again, don't worry about looking up even the basics!"
   ]
  },
  {
   "cell_type": "code",
   "execution_count": 16,
   "id": "0bbdd575",
   "metadata": {},
   "outputs": [
    {
     "name": "stdout",
     "output_type": "stream",
     "text": [
      "What a failure.\n"
     ]
    }
   ],
   "source": [
    "if get_input == random_num:\n",
    "    print(\"You did it! Here's a cookie: 🍪\")\n",
    "else:\n",
    "    print(\"What a failure.\")"
   ]
  },
  {
   "cell_type": "markdown",
   "id": "cbf57e85",
   "metadata": {},
   "source": [
    "Nice! See how, even though the code is all split up, you can easily reference variables run in prior cells? That's the beauty of Jupyter Notebooks, and it's just the beginning! You can create beautiful visualizations using graphing libraries or run models using machine learning frameworks, and it's all just right there!"
   ]
  }
 ],
 "metadata": {
  "kernelspec": {
   "display_name": "Python 3 (ipykernel)",
   "language": "python",
   "name": "python3"
  },
  "language_info": {
   "codemirror_mode": {
    "name": "ipython",
    "version": 3
   },
   "file_extension": ".py",
   "mimetype": "text/x-python",
   "name": "python",
   "nbconvert_exporter": "python",
   "pygments_lexer": "ipython3",
   "version": "3.10.4"
  }
 },
 "nbformat": 4,
 "nbformat_minor": 5
}
